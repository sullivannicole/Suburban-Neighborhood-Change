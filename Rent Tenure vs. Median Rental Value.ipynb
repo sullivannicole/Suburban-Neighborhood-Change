{
 "cells": [
  {
   "cell_type": "code",
   "execution_count": 2,
   "metadata": {
    "collapsed": true
   },
   "outputs": [],
   "source": [
    "import pandas as pd\n",
    "import shapefile\n",
    "\n",
    "acs_17 = pd.read_excel(\"Data/acs20175_tr.xlsx\")\n",
    "snc_tr = pd.read_excel(\"Data/SNC tracts.xlsx\")\n",
    "tr_shp = shapefile.Reader(\"Data/Census2010TigerTract\")"
   ]
  },
  {
   "cell_type": "code",
   "execution_count": 3,
   "metadata": {
    "collapsed": false
   },
   "outputs": [
    {
     "name": "stdout",
     "output_type": "stream",
     "text": [
      "GEOG_UNIT\n",
      "GEOG_LEVEL\n",
      "GEOID\n",
      "GEOID2\n",
      "SUMLEV\n",
      "GEONAME\n",
      "GEOCOMP\n",
      "STATE\n",
      "COUNTY\n",
      "TRACT\n",
      "TCFLAG\n",
      "B00001E1\n",
      "B00002E1\n",
      "SOURCE\n",
      "YEAR\n",
      "POPTOTAL\n",
      "POPINHH\n",
      "HHTOTAL\n",
      "AVGHHSIZE\n",
      "LIVEDALONE\n",
      "MARRKIDS\n",
      "UNMARRKIDS\n",
      "FAMNOKIDS\n",
      "NONFAMILY\n",
      "M_0_4\n",
      "M_5_9\n",
      "M_10_14\n",
      "M_15_19\n",
      "M_20_24\n",
      "M_25_29\n",
      "M_30_34\n",
      "M_35_39\n",
      "M_40_44\n",
      "M_45_49\n",
      "M_50_54\n",
      "M_55_59\n",
      "M_60_64\n",
      "M_65_69\n",
      "M_70_74\n",
      "M_75_79\n",
      "M_80_84\n",
      "M_OVER85\n",
      "F_0_4\n",
      "F_5_9\n",
      "F_10_14\n",
      "F_15_19\n",
      "F_20_24\n",
      "F_25_29\n",
      "F_30_34\n",
      "F_35_39\n",
      "F_40_44\n",
      "F_45_49\n",
      "F_50_54\n",
      "F_55_59\n",
      "F_60_64\n",
      "F_65_69\n",
      "F_70_74\n",
      "F_75_79\n",
      "F_80_84\n",
      "F_OVER85\n",
      "POPOVER5\n",
      "POPOVER16\n",
      "POPOVER18\n",
      "AGEUNDER18\n",
      "AGE18_39\n",
      "AGE40_64\n",
      "AGE65UP\n",
      "WHITENH\n",
      "BLACKNH\n",
      "AMINDNH\n",
      "ASIANNH\n",
      "PACIFICNH\n",
      "OTHERNH\n",
      "MULTRACENH\n",
      "HISPPOP\n",
      "NOTHISPPOP\n",
      "POPOVER25\n",
      "LESSHS\n",
      "HIGHSCHOOL\n",
      "SOMECOLLEG\n",
      "ASSOCIATE\n",
      "BACHELORS\n",
      "GRADPROF\n",
      "WORKDENOM\n",
      "DROVEALONE\n",
      "CARPOOL\n",
      "PUBTRANSIT\n",
      "WALKTOWORK\n",
      "OTHCOMMUTE\n",
      "WORKATHOME\n",
      "JTWDENOM\n",
      "JTWLT10\n",
      "JTW10TO14\n",
      "JTW15TO19\n",
      "JTW20TO24\n",
      "JTW25TO29\n",
      "JTW30TO34\n",
      "JTW35TO44\n",
      "JTW45TO59\n",
      "JTW60PLUS\n",
      "AGGCOMMUTE\n",
      "AVGCOMMUTE\n",
      "VEHICLESN\n",
      "HH_NOVEH\n",
      "HH_1VEH\n",
      "HH_MULTVEH\n",
      "USBORNCIT\n",
      "FORBORNCIT\n",
      "FORBORNNOT\n",
      "CDENOM\n",
      "CDENOM_017\n",
      "CDENOM_517\n",
      "CDENOM1864\n",
      "CDENOM65UP\n",
      "ANYDIS\n",
      "ANYDIS_017\n",
      "ANYDIS1864\n",
      "ANYDIS65UP\n",
      "DEAF\n",
      "DEAF_017\n",
      "DEAF1864\n",
      "DEAF65UP\n",
      "VISION\n",
      "VISION_017\n",
      "VISION1864\n",
      "VISION65UP\n",
      "COGDIS\n",
      "COGDIS_517\n",
      "COGDIS1864\n",
      "COGDIS65UP\n",
      "AMBDIS\n",
      "AMBDIS_517\n",
      "AMBDIS1864\n",
      "AMBDIS65UP\n",
      "SELFCARE\n",
      "SELFCA_517\n",
      "SELFCA1864\n",
      "SELFCA65UP\n",
      "INDLIV\n",
      "INDLIV_517\n",
      "INDLIV1864\n",
      "INDLIV65UP\n",
      "ENGLISH\n",
      "ESL_VWELL\n",
      "LEP\n",
      "LEP_SPAN\n",
      "LEP_RUSS\n",
      "LEP_CHIN\n",
      "LEP_HMONG\n",
      "LEP_VIET\n",
      "LEP_AFRICA\n",
      "PCI\n",
      "MEANHHINC\n",
      "MEDIANHHI\n",
      "POVERTYN\n",
      "POVERTY150\n",
      "POV150_185\n",
      "POVDENOM\n",
      "POV100RATE\n",
      "POV150RATE\n",
      "POV185RATE\n",
      "HUTOTAL\n",
      "HUSFD\n",
      "HUSFA\n",
      "HU234\n",
      "HUMF5\n",
      "HUMOBILE\n",
      "HUOTHER\n",
      "HOMEOWNPCT\n",
      "OWNEROCC\n",
      "RENTEROCC\n",
      "VACANT\n",
      "MEDGRENT\n",
      "MEDHOMEVAL\n",
      "BURDOWN\n",
      "NOBURDOWN\n",
      "BURDRENT\n",
      "NOBURDRENT\n",
      "BURD_DENOM\n",
      "RLT200\n",
      "R200_299\n",
      "R300_399\n",
      "R400_499\n",
      "R500_599\n",
      "R600_699\n",
      "R700_799\n",
      "R800_899\n",
      "R900_999\n",
      "R1000_1249\n",
      "R1250_1499\n",
      "R1500_1999\n",
      "R2000UP\n",
      "R_DENOM\n",
      "VALLT40\n",
      "VAL40_69\n",
      "VAL70_99\n",
      "VAL100_124\n",
      "VAL125_149\n",
      "VAL150_174\n",
      "VAL175_199\n",
      "VAL200_249\n",
      "VAL250_299\n",
      "VAL300_399\n",
      "VAL400_499\n",
      "VAL500_749\n",
      "VAL750_999\n",
      "VAL1MIL\n",
      "VAL_DENOM\n",
      "HHSF\n",
      "HH234\n",
      "HHMF5\n",
      "HHMOBILE\n",
      "HHOTHER\n",
      "POPSF\n",
      "POP234\n",
      "POPMF5\n",
      "POPMOBILE\n",
      "POPOTHER\n",
      "PPHSF\n",
      "PPH234\n",
      "PPHMF5\n",
      "PPHMOBILE\n",
      "PPHOTHER\n"
     ]
    }
   ],
   "source": [
    "# See all variable names in 2017 ACS 5-year data\n",
    "for col in acs_17.columns: \n",
    "    print(col)\n",
    "    \n",
    "# MEDGRENT is the median gross rent variable, HUTOTAL is total housing units, RENTEROCC is gross renter-occupied units"
   ]
  },
  {
   "cell_type": "code",
   "execution_count": 4,
   "metadata": {
    "collapsed": false
   },
   "outputs": [],
   "source": [
    "acs_17['rent_tenure'] = acs_17['RENTEROCC']/acs_17['HUTOTAL']*100"
   ]
  },
  {
   "cell_type": "code",
   "execution_count": 5,
   "metadata": {
    "collapsed": false
   },
   "outputs": [],
   "source": [
    "snc_tr_acs = pd.merge(snc_tr,\n",
    "                     acs_17[['rent_tenure', 'MEDGRENT', 'GEOID2']],\n",
    "                     left_on = 'GEOID',\n",
    "                     right_on = 'GEOID2',\n",
    "                     how = 'left')"
   ]
  },
  {
   "cell_type": "code",
   "execution_count": 8,
   "metadata": {
    "collapsed": false
   },
   "outputs": [
    {
     "data": {
      "text/html": [
       "<div>\n",
       "<table border=\"1\" class=\"dataframe\">\n",
       "  <thead>\n",
       "    <tr style=\"text-align: right;\">\n",
       "      <th></th>\n",
       "      <th>GEOID</th>\n",
       "      <th>rent_tenure</th>\n",
       "      <th>MEDGRENT</th>\n",
       "      <th>GEOID2</th>\n",
       "    </tr>\n",
       "  </thead>\n",
       "  <tbody>\n",
       "  </tbody>\n",
       "</table>\n",
       "</div>"
      ],
      "text/plain": [
       "Empty DataFrame\n",
       "Columns: [GEOID, rent_tenure, MEDGRENT, GEOID2]\n",
       "Index: []"
      ]
     },
     "execution_count": 8,
     "metadata": {},
     "output_type": "execute_result"
    }
   ],
   "source": [
    "# See if all tracts with a null median rent value also have 0% rent occupancy\n",
    "rent_na = snc_tr_acs[snc_tr_acs['MEDGRENT'].isnull()]\n",
    "occ_na = snc_tr_acs[snc_tr_acs['rent_tenure'].isnull()]\n",
    "\n",
    "rent_na\n",
    "occ_na"
   ]
  },
  {
   "cell_type": "code",
   "execution_count": 38,
   "metadata": {
    "collapsed": false
   },
   "outputs": [],
   "source": [
    "snc_tr_acs.to_csv(\"N:\\CommDev\\Research\\Research\\Suburban-Neighborhood-Change\\Project\\Data\\2017 ACS Rent Tenure and Median Gross Rent.csv\")"
   ]
  },
  {
   "cell_type": "code",
   "execution_count": 4,
   "metadata": {
    "collapsed": false
   },
   "outputs": [
    {
     "data": {
      "text/plain": [
       "5"
      ]
     },
     "execution_count": 4,
     "metadata": {},
     "output_type": "execute_result"
    }
   ],
   "source": [
    "tr_shp.shapeType"
   ]
  }
 ],
 "metadata": {
  "kernelspec": {
   "display_name": "Python 3",
   "language": "python",
   "name": "python3"
  },
  "language_info": {
   "codemirror_mode": {
    "name": "ipython",
    "version": 3
   },
   "file_extension": ".py",
   "mimetype": "text/x-python",
   "name": "python",
   "nbconvert_exporter": "python",
   "pygments_lexer": "ipython3",
   "version": "3.5.0"
  }
 },
 "nbformat": 4,
 "nbformat_minor": 0
}
